{
  "cells": [
    {
      "cell_type": "code",
      "execution_count": 102,
      "metadata": {
        "id": "VunXBixvcD8v"
      },
      "outputs": [],
      "source": [
        "import pandas as pd\n",
        "import numpy as np\n",
        "import matplotlib.pyplot as plt\n",
        "import sklearn"
      ]
    },
    {
      "cell_type": "code",
      "execution_count": 103,
      "metadata": {
        "id": "h7dp_oqIcD8x"
      },
      "outputs": [],
      "source": [
        "from sklearn.datasets import load_iris\n",
        "iris = load_iris()"
      ]
    },
    {
      "cell_type": "code",
      "execution_count": 104,
      "metadata": {
        "id": "brjGHJ9tcD8y"
      },
      "outputs": [],
      "source": [
        "X = iris.data # data colomns from the iris dataset\n",
        "Y = iris.target #target colomn from the iris dataset"
      ]
    },
    {
      "cell_type": "code",
      "source": [
        "iris_Type = iris.target_names"
      ],
      "metadata": {
        "id": "_Y7Y1sFrfb_k"
      },
      "execution_count": 105,
      "outputs": []
    },
    {
      "cell_type": "markdown",
      "metadata": {
        "id": "xSgClZ5jcD8y"
      },
      "source": [
        "### **Logistic Regression**"
      ]
    },
    {
      "cell_type": "code",
      "execution_count": 106,
      "metadata": {
        "colab": {
          "base_uri": "https://localhost:8080/"
        },
        "id": "O300IkQ1cD8z",
        "outputId": "301cd930-9779-4bf2-e277-dd346cca730a"
      },
      "outputs": [
        {
          "output_type": "execute_result",
          "data": {
            "text/plain": [
              "array(['setosa', 'setosa', 'setosa', 'setosa', 'setosa', 'setosa',\n",
              "       'setosa', 'setosa', 'setosa', 'setosa', 'setosa', 'setosa',\n",
              "       'setosa', 'setosa', 'setosa', 'setosa', 'setosa', 'setosa',\n",
              "       'setosa', 'setosa', 'setosa', 'setosa', 'setosa', 'setosa',\n",
              "       'setosa', 'setosa', 'setosa', 'setosa', 'setosa', 'setosa',\n",
              "       'setosa', 'setosa', 'setosa', 'setosa', 'setosa', 'setosa',\n",
              "       'setosa', 'setosa', 'setosa', 'setosa', 'setosa', 'setosa',\n",
              "       'setosa', 'setosa', 'setosa', 'setosa', 'setosa', 'setosa',\n",
              "       'setosa', 'setosa', 'versicolor', 'versicolor', 'versicolor',\n",
              "       'versicolor', 'versicolor', 'versicolor', 'versicolor',\n",
              "       'versicolor', 'versicolor', 'versicolor', 'versicolor',\n",
              "       'versicolor', 'versicolor', 'versicolor', 'versicolor',\n",
              "       'versicolor', 'versicolor', 'versicolor', 'versicolor',\n",
              "       'versicolor', 'virginica', 'versicolor', 'versicolor',\n",
              "       'versicolor', 'versicolor', 'versicolor', 'versicolor',\n",
              "       'virginica', 'versicolor', 'versicolor', 'versicolor',\n",
              "       'versicolor', 'versicolor', 'virginica', 'versicolor',\n",
              "       'versicolor', 'versicolor', 'versicolor', 'versicolor',\n",
              "       'versicolor', 'versicolor', 'versicolor', 'versicolor',\n",
              "       'versicolor', 'versicolor', 'versicolor', 'versicolor',\n",
              "       'versicolor', 'versicolor', 'versicolor', 'virginica', 'virginica',\n",
              "       'virginica', 'virginica', 'virginica', 'virginica', 'versicolor',\n",
              "       'virginica', 'virginica', 'virginica', 'virginica', 'virginica',\n",
              "       'virginica', 'virginica', 'virginica', 'virginica', 'virginica',\n",
              "       'virginica', 'virginica', 'virginica', 'virginica', 'virginica',\n",
              "       'virginica', 'virginica', 'virginica', 'virginica', 'virginica',\n",
              "       'virginica', 'virginica', 'virginica', 'virginica', 'virginica',\n",
              "       'virginica', 'virginica', 'virginica', 'virginica', 'virginica',\n",
              "       'virginica', 'virginica', 'virginica', 'virginica', 'virginica',\n",
              "       'virginica', 'virginica', 'virginica', 'virginica', 'virginica',\n",
              "       'virginica', 'virginica', 'virginica'], dtype='<U10')"
            ]
          },
          "metadata": {},
          "execution_count": 106
        }
      ],
      "source": [
        "\n",
        "from sklearn.linear_model import LogisticRegression\n",
        "logsRegs = LogisticRegression(solver='lbfgs',max_iter=(len(Y)+1))\n",
        "logsRegs.fit(X,Y)\n",
        "iris_Type[logsRegs.predict(X)]"
      ]
    },
    {
      "cell_type": "code",
      "execution_count": 107,
      "metadata": {
        "id": "u8f5yrawcD80"
      },
      "outputs": [],
      "source": [
        "tempRegressionPredict = logsRegs.predict(X)"
      ]
    },
    {
      "cell_type": "code",
      "execution_count": 108,
      "metadata": {
        "colab": {
          "base_uri": "https://localhost:8080/"
        },
        "id": "rmTefcXScD81",
        "outputId": "f64bcbb7-0135-4942-8987-1122202587a4"
      },
      "outputs": [
        {
          "output_type": "execute_result",
          "data": {
            "text/plain": [
              "150"
            ]
          },
          "metadata": {},
          "execution_count": 108
        }
      ],
      "source": [
        "len(tempRegressionPredict)"
      ]
    },
    {
      "cell_type": "markdown",
      "metadata": {
        "id": "EL203cT4cD81"
      },
      "source": [
        "# **Accuracy check of the training data**\n",
        "\n",
        "\n",
        "- training accuracy"
      ]
    },
    {
      "cell_type": "code",
      "execution_count": 109,
      "metadata": {
        "colab": {
          "base_uri": "https://localhost:8080/"
        },
        "id": "sO804XsicD82",
        "outputId": "fc1a3ee6-6621-480e-ae89-37cf5757663a"
      },
      "outputs": [
        {
          "output_type": "execute_result",
          "data": {
            "text/plain": [
              "0.9733333333333334"
            ]
          },
          "metadata": {},
          "execution_count": 109
        }
      ],
      "source": [
        "from sklearn import metrics\n",
        "metrics.accuracy_score(Y, tempRegressionPredict)  # 150 given data vs 150 predicted data"
      ]
    },
    {
      "cell_type": "markdown",
      "source": [
        "# **KNN at n = 5**"
      ],
      "metadata": {
        "id": "Uhnx2-NSiMVt"
      }
    },
    {
      "cell_type": "code",
      "source": [
        "from sklearn.neighbors import KNeighborsClassifier\n",
        "knnClass_5 = KNeighborsClassifier(n_neighbors=5)\n",
        "knnClass_5.fit(X,Y)\n",
        "tempKnnPredict_5 = knnClass_5.predict(X)"
      ],
      "metadata": {
        "id": "QjbeRn9WiL4T"
      },
      "execution_count": 110,
      "outputs": []
    },
    {
      "cell_type": "code",
      "source": [
        "metrics.accuracy_score(Y,tempKnnPredict_5)"
      ],
      "metadata": {
        "colab": {
          "base_uri": "https://localhost:8080/"
        },
        "id": "-CHazMoFjtv-",
        "outputId": "d76b16c1-a8f3-46b6-9572-58a7a3e26a5d"
      },
      "execution_count": 111,
      "outputs": [
        {
          "output_type": "execute_result",
          "data": {
            "text/plain": [
              "0.9666666666666667"
            ]
          },
          "metadata": {},
          "execution_count": 111
        }
      ]
    },
    {
      "cell_type": "markdown",
      "source": [
        "# **KNN at n = 1**"
      ],
      "metadata": {
        "id": "54QXcD5Lj6CY"
      }
    },
    {
      "cell_type": "code",
      "source": [
        "from sklearn.neighbors import KNeighborsClassifier\n",
        "knnClass_1 = KNeighborsClassifier(n_neighbors=1)\n",
        "knnClass_1.fit(X,Y)\n",
        "tempKnnPredict_1 = knnClass_1.predict(X)"
      ],
      "metadata": {
        "id": "w7XkUqxqj-7C"
      },
      "execution_count": 112,
      "outputs": []
    },
    {
      "cell_type": "code",
      "source": [
        "metrics.accuracy_score(Y,tempKnnPredict_1)\n",
        "# this data is overfitting as it accuracy is 1"
      ],
      "metadata": {
        "colab": {
          "base_uri": "https://localhost:8080/"
        },
        "id": "AQo6uTSalJWE",
        "outputId": "3c7d0dba-b625-403f-da07-567a4d5af2a9"
      },
      "execution_count": 113,
      "outputs": [
        {
          "output_type": "execute_result",
          "data": {
            "text/plain": [
              "1.0"
            ]
          },
          "metadata": {},
          "execution_count": 113
        }
      ]
    },
    {
      "cell_type": "markdown",
      "source": [
        "# **So train test split is done**"
      ],
      "metadata": {
        "id": "-wWs6erhnLNm"
      }
    },
    {
      "cell_type": "code",
      "source": [
        "X.shape\n",
        "Y.shape"
      ],
      "metadata": {
        "colab": {
          "base_uri": "https://localhost:8080/"
        },
        "id": "kjm9Im4XnQun",
        "outputId": "2ca9e4a1-4d2d-4b8f-ec0f-c0103ab529b1"
      },
      "execution_count": 114,
      "outputs": [
        {
          "output_type": "execute_result",
          "data": {
            "text/plain": [
              "(150,)"
            ]
          },
          "metadata": {},
          "execution_count": 114
        }
      ]
    },
    {
      "cell_type": "code",
      "source": [
        "from sklearn.model_selection import train_test_split\n",
        "X_train, X_test, Y_train ,Y_test = train_test_split(X,Y, train_size=.4, random_state = 1)\n",
        "\n",
        "# this is how the data is splitted in X and Y"
      ],
      "metadata": {
        "id": "QUZuejZMn3Fg"
      },
      "execution_count": 115,
      "outputs": []
    },
    {
      "cell_type": "code",
      "source": [
        "Y_train.shape"
      ],
      "metadata": {
        "colab": {
          "base_uri": "https://localhost:8080/"
        },
        "id": "9KBippt8p1xw",
        "outputId": "cd227da6-477d-47c8-a62a-38c8b25cc404"
      },
      "execution_count": 116,
      "outputs": [
        {
          "output_type": "execute_result",
          "data": {
            "text/plain": [
              "(60,)"
            ]
          },
          "metadata": {},
          "execution_count": 116
        }
      ]
    },
    {
      "cell_type": "markdown",
      "source": [
        "# **fit on the training data**"
      ],
      "metadata": {
        "id": "F9SNukFRqPv5"
      }
    },
    {
      "cell_type": "code",
      "source": [
        "#Logistic Regression\n",
        "\n",
        "logsRegs = LogisticRegression()\n",
        "logsRegs.fit(X_train,Y_train)\n",
        "tempRegressionTest = logsRegs.predict(X_test)\n",
        "metrics.accuracy_score(Y_test,tempRegressionTest)"
      ],
      "metadata": {
        "colab": {
          "base_uri": "https://localhost:8080/"
        },
        "id": "5LS2r4HOqOm0",
        "outputId": "b8a7ee02-c8c1-431c-bd27-8b79e8d65d15"
      },
      "execution_count": 117,
      "outputs": [
        {
          "output_type": "execute_result",
          "data": {
            "text/plain": [
              "0.9666666666666667"
            ]
          },
          "metadata": {},
          "execution_count": 117
        }
      ]
    },
    {
      "cell_type": "code",
      "source": [
        "# KNN , n = 5\n",
        "\n",
        "knnClassTest = KNeighborsClassifier(n_neighbors=5)\n",
        "knnClassTest.fit(X_train,Y_train)\n",
        "tempKNNTest_5 = knnClassTest.predict(X_test)\n",
        "metrics.accuracy_score(Y_test,tempKNNTest_5)"
      ],
      "metadata": {
        "colab": {
          "base_uri": "https://localhost:8080/"
        },
        "id": "WKS73AAdr_XH",
        "outputId": "bc425139-e32c-43fe-9dce-9195e11ea0fb"
      },
      "execution_count": 118,
      "outputs": [
        {
          "output_type": "execute_result",
          "data": {
            "text/plain": [
              "0.9777777777777777"
            ]
          },
          "metadata": {},
          "execution_count": 118
        }
      ]
    },
    {
      "cell_type": "code",
      "source": [
        "# KNN , n = 1\n",
        "\n",
        "knnClassTest = KNeighborsClassifier(n_neighbors=1)\n",
        "knnClassTest.fit(X_train,Y_train)\n",
        "tempKNNTest_1 = knnClassTest.predict(X_test)\n",
        "metrics.accuracy_score(Y_test,tempKNNTest_1)"
      ],
      "metadata": {
        "colab": {
          "base_uri": "https://localhost:8080/"
        },
        "id": "EJtMYVlltUer",
        "outputId": "5bfa78a9-d9c4-4f30-fb5d-af2487f89c09"
      },
      "execution_count": 119,
      "outputs": [
        {
          "output_type": "execute_result",
          "data": {
            "text/plain": [
              "0.9333333333333333"
            ]
          },
          "metadata": {},
          "execution_count": 119
        }
      ]
    },
    {
      "cell_type": "markdown",
      "source": [
        "# **Is even better value of K possible?**"
      ],
      "metadata": {
        "id": "RrREP4g5tytR"
      }
    },
    {
      "cell_type": "code",
      "source": [
        "#lets make KNN accuracy a function\n",
        "\n",
        "def knn_Accu(i):\n",
        "  knnClassTest = KNeighborsClassifier(n_neighbors=i)\n",
        "  knnClassTest.fit(X_train,Y_train)\n",
        "  tmpKnnTst = knnClassTest.predict(X_test)\n",
        "  accu = metrics.accuracy_score(Y_test,tmpKnnTst)\n",
        "\n",
        "  return accu"
      ],
      "metadata": {
        "id": "sHzXDYDBuhOH"
      },
      "execution_count": 120,
      "outputs": []
    },
    {
      "cell_type": "code",
      "source": [
        "tmp = np.arange(1,26)\n",
        "accu_list = []\n",
        "for i in tmp:\n",
        "  accu_list.append(knn_Accu(i))"
      ],
      "metadata": {
        "id": "DouA_7Wbt43e"
      },
      "execution_count": 130,
      "outputs": []
    },
    {
      "cell_type": "code",
      "source": [
        "from matplotlib.pyplot import figure\n",
        "figure(figsize=(10, 5), dpi=100)\n",
        "plt.plot(tmp,accu_list, '-or')\n",
        "plt.xlabel(\"Value of K for KNN\")\n",
        "plt.ylabel(\"Accuracy Score\")"
      ],
      "metadata": {
        "colab": {
          "base_uri": "https://localhost:8080/",
          "height": 474
        },
        "id": "Ns6ZeU7xww-w",
        "outputId": "1076570b-2d99-46a2-9d4f-c6408de4c0c9"
      },
      "execution_count": 142,
      "outputs": [
        {
          "output_type": "execute_result",
          "data": {
            "text/plain": [
              "Text(0, 0.5, 'Accuracy Score')"
            ]
          },
          "metadata": {},
          "execution_count": 142
        },
        {
          "output_type": "display_data",
          "data": {
            "text/plain": [
              "<Figure size 1000x500 with 1 Axes>"
            ],
            "image/png": "[encoded data removed]"
          },
          "metadata": {
            "needs_background": "light"
          }
        }
      ]
    },
    {
      "cell_type": "code",
      "source": [
        "accu_list"
      ],
      "metadata": {
        "colab": {
          "base_uri": "https://localhost:8080/"
        },
        "id": "dNYyVGyrzKod",
        "outputId": "5f3375a4-64fd-450c-a6c0-56d6dc87ac31"
      },
      "execution_count": 143,
      "outputs": [
        {
          "output_type": "execute_result",
          "data": {
            "text/plain": [
              "[0.9333333333333333,\n",
              " 0.9222222222222223,\n",
              " 0.9444444444444444,\n",
              " 0.9333333333333333,\n",
              " 0.9777777777777777,\n",
              " 0.9666666666666667,\n",
              " 0.9888888888888889,\n",
              " 0.9555555555555556,\n",
              " 0.9777777777777777,\n",
              " 0.9444444444444444,\n",
              " 0.9444444444444444,\n",
              " 0.9444444444444444,\n",
              " 0.9666666666666667,\n",
              " 0.9555555555555556,\n",
              " 0.9666666666666667,\n",
              " 0.9555555555555556,\n",
              " 0.9444444444444444,\n",
              " 0.9333333333333333,\n",
              " 0.9444444444444444,\n",
              " 0.9333333333333333,\n",
              " 0.9333333333333333,\n",
              " 0.9222222222222223,\n",
              " 0.9333333333333333,\n",
              " 0.9,\n",
              " 0.9]"
            ]
          },
          "metadata": {},
          "execution_count": 143
        }
      ]
    },
    {
      "cell_type": "code",
      "source": [
        "knn_Accu(7)"
      ],
      "metadata": {
        "colab": {
          "base_uri": "https://localhost:8080/"
        },
        "id": "extetZsp14pZ",
        "outputId": "a32dd218-6b19-46cc-c305-707492e5661e"
      },
      "execution_count": 144,
      "outputs": [
        {
          "output_type": "execute_result",
          "data": {
            "text/plain": [
              "0.9888888888888889"
            ]
          },
          "metadata": {},
          "execution_count": 144
        }
      ]
    },
    {
      "cell_type": "markdown",
      "source": [
        "# however K fold cross validation can overcome the limitations of the KNN method"
      ],
      "metadata": {
        "id": "Q_oIpTIe2L5F"
      }
    }
  ],
  "metadata": {
    "kernelspec": {
      "display_name": "Python 3.10.4 64-bit",
      "language": "python",
      "name": "python3"
    },
    "language_info": {
      "codemirror_mode": {
        "name": "ipython",
        "version": 3
      },
      "file_extension": ".py",
      "mimetype": "text/x-python",
      "name": "python",
      "nbconvert_exporter": "python",
      "pygments_lexer": "ipython3",
      "version": "3.10.4"
    },
    "orig_nbformat": 4,
    "vscode": {
      "interpreter": {
        "hash": "26de051ba29f2982a8de78e945f0abaf191376122a1563185a90213a26c5da77"
      }
    },
    "colab": {
      "name": "DataSchool.ipynb",
      "provenance": []
    }
  },
  "nbformat": 4,
  "nbformat_minor": 0
}