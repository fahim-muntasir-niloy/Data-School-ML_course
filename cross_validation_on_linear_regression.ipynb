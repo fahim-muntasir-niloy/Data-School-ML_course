{
  "nbformat": 4,
  "nbformat_minor": 0,
  "metadata": {
    "colab": {
      "name": "cross validation on linear regression.ipynb",
      "provenance": [],
      "authorship_tag": "ABX9TyPjXWPxyiVQFJsHTloG9mkC",
      "include_colab_link": true
    },
    "kernelspec": {
      "name": "python3",
      "display_name": "Python 3"
    },
    "language_info": {
      "name": "python"
    }
  },
  "cells": [
    {
      "cell_type": "markdown",
      "metadata": {
        "id": "view-in-github",
        "colab_type": "text"
      },
      "source": [
        "<a href=\"https://colab.research.google.com/github/niloy1601107/Data-School-ML_course/blob/main/cross_validation_on_linear_regression.ipynb\" target=\"_parent\"><img src=\"https://colab.research.google.com/assets/colab-badge.svg\" alt=\"Open In Colab\"/></a>"
      ]
    },
    {
      "cell_type": "code",
      "execution_count": null,
      "metadata": {
        "id": "ez1f2yy1ip-Y"
      },
      "outputs": [],
      "source": [
        "import numpy as np\n",
        "import pandas as pd\n",
        "import sklearn\n",
        "from sklearn.model_selection import cross_val_score"
      ]
    },
    {
      "cell_type": "code",
      "source": [
        "ads = pd.read_csv('Advertising.csv',index_col=0)\n",
        "ads.info()"
      ],
      "metadata": {
        "colab": {
          "base_uri": "https://localhost:8080/"
        },
        "id": "Fy3XzItljHXb",
        "outputId": "54b361ff-1c83-41b7-ac30-1e58e42de940"
      },
      "execution_count": null,
      "outputs": [
        {
          "output_type": "stream",
          "name": "stdout",
          "text": [
            "<class 'pandas.core.frame.DataFrame'>\n",
            "Int64Index: 200 entries, 1 to 200\n",
            "Data columns (total 4 columns):\n",
            " #   Column     Non-Null Count  Dtype  \n",
            "---  ------     --------------  -----  \n",
            " 0   TV         200 non-null    float64\n",
            " 1   Radio      200 non-null    float64\n",
            " 2   Newspaper  200 non-null    float64\n",
            " 3   Sales      200 non-null    float64\n",
            "dtypes: float64(4)\n",
            "memory usage: 7.8 KB\n"
          ]
        }
      ]
    },
    {
      "cell_type": "code",
      "source": [
        "ads.isnull().any()"
      ],
      "metadata": {
        "colab": {
          "base_uri": "https://localhost:8080/"
        },
        "id": "kNnOwOG9jWty",
        "outputId": "2c9e3497-61c1-4a19-edb3-883cc2712a96"
      },
      "execution_count": null,
      "outputs": [
        {
          "output_type": "execute_result",
          "data": {
            "text/plain": [
              "TV           False\n",
              "Radio        False\n",
              "Newspaper    False\n",
              "Sales        False\n",
              "dtype: bool"
            ]
          },
          "metadata": {},
          "execution_count": 6
        }
      ]
    },
    {
      "cell_type": "code",
      "source": [
        "X = ads[['TV','Radio','Newspaper']]\n",
        "Y = ads.Sales"
      ],
      "metadata": {
        "id": "swEPfGCyj7h1"
      },
      "execution_count": null,
      "outputs": []
    },
    {
      "cell_type": "code",
      "source": [
        "from sklearn.linear_model import LinearRegression\n",
        "LRG = LinearRegression()\n",
        "\n",
        "MSEfeat_3 = cross_val_score(LRG,X,Y,cv=10,scoring = 'neg_mean_squared_error')\n",
        "MSEfeat_3 = -(MSEfeat_3)\n",
        "RMSEfeat3 = np.sqrt(MSEfeat_3)\n",
        "RMSEfeat3.mean()\n"
      ],
      "metadata": {
        "colab": {
          "base_uri": "https://localhost:8080/"
        },
        "id": "31sgERV1jcM_",
        "outputId": "cecc6621-51b6-40f8-b632-692092358a44"
      },
      "execution_count": null,
      "outputs": [
        {
          "output_type": "execute_result",
          "data": {
            "text/plain": [
              "1.6913531708051797"
            ]
          },
          "metadata": {},
          "execution_count": 27
        }
      ]
    },
    {
      "cell_type": "code",
      "source": [
        "X2 = ads[['TV','Radio']]"
      ],
      "metadata": {
        "id": "NXAsjS3onH8P"
      },
      "execution_count": null,
      "outputs": []
    },
    {
      "cell_type": "code",
      "source": [
        "MSEfeat_3 = cross_val_score(LRG,X2,Y,cv=10,scoring = 'neg_mean_squared_error')\n",
        "MSEfeat_3 = -(MSEfeat_3)\n",
        "RMSEfeat3 = np.sqrt(MSEfeat_3)\n",
        "RMSEfeat3.mean()"
      ],
      "metadata": {
        "colab": {
          "base_uri": "https://localhost:8080/"
        },
        "id": "jRM09D_0ml3W",
        "outputId": "6c9ca9af-8623-449b-d968-d090bc1b0595"
      },
      "execution_count": null,
      "outputs": [
        {
          "output_type": "execute_result",
          "data": {
            "text/plain": [
              "1.6796748419090761"
            ]
          },
          "metadata": {},
          "execution_count": 29
        }
      ]
    },
    {
      "cell_type": "markdown",
      "source": [
        "So the model excluding *newspaper* is better, as RMSE is low here"
      ],
      "metadata": {
        "id": "YjECIJqYnikV"
      }
    }
  ]
}